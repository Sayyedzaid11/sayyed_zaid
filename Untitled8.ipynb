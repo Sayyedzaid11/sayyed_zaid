{
  "nbformat": 4,
  "nbformat_minor": 0,
  "metadata": {
    "colab": {
      "provenance": [],
      "collapsed_sections": [],
      "toc_visible": true,
      "authorship_tag": "ABX9TyNmJD6qbVle2FoI1S1WleqX",
      "include_colab_link": true
    },
    "kernelspec": {
      "name": "python3",
      "display_name": "Python 3"
    },
    "language_info": {
      "name": "python"
    }
  },
  "cells": [
    {
      "cell_type": "markdown",
      "metadata": {
        "id": "view-in-github",
        "colab_type": "text"
      },
      "source": [
        "<a href=\"https://colab.research.google.com/github/Sayyedzaid11/python_01/blob/Assignment/Untitled8.ipynb\" target=\"_parent\"><img src=\"https://colab.research.google.com/assets/colab-badge.svg\" alt=\"Open In Colab\"/></a>"
      ]
    },
    {
      "cell_type": "markdown",
      "source": [
        "**Assignment_01**"
      ],
      "metadata": {
        "id": "vQbJy-Z-p-pp"
      }
    },
    {
      "cell_type": "markdown",
      "source": [
        "**List**  "
      ],
      "metadata": {
        "id": "rr60CkxQrqSW"
      }
    },
    {
      "cell_type": "code",
      "source": [
        "# if we want to check directly like (list_1 > list_2) then we need to give only one datatype values like string,integer\n",
        "\n",
        "list_1=[23,3,43,56,75,34]\n",
        "list_2=[74,65,43,5,45,23]\n",
        "\n",
        "print(list_1<list_2)\n",
        "print(list_1>list_2)\n",
        "print(list_1<=list_2)\n",
        "print(list_1>=list_2)\n",
        "print(list_1==list_2)\n",
        "print(list_1!=list_2)"
      ],
      "metadata": {
        "colab": {
          "base_uri": "https://localhost:8080/"
        },
        "id": "-7m0dprfqLEB",
        "outputId": "f3aaf2c3-fe47-4d19-e5a7-a0d6c06b0b9f"
      },
      "execution_count": 1,
      "outputs": [
        {
          "output_type": "stream",
          "name": "stdout",
          "text": [
            "True\n",
            "False\n",
            "True\n",
            "False\n",
            "False\n",
            "True\n"
          ]
        }
      ]
    },
    {
      "cell_type": "markdown",
      "source": [
        "**Tuple**"
      ],
      "metadata": {
        "id": "Ous64DZcrVeA"
      }
    },
    {
      "cell_type": "code",
      "source": [
        "tuple_1=(\"Herry\",\"Roy\",\"Tom\",32,\"Welcome\")\n",
        "tuple_2=(\"Joy\",\"teddy\",7382,\"Sem\")\n",
        "a=len(tuple_1)\n",
        "b=len(tuple_2)\n",
        "print(a<b)\n",
        "print(a<b)\n",
        "print(a>=b)\n",
        "print(a<=b)\n",
        "print(a==b)\n",
        "print(a!=b)"
      ],
      "metadata": {
        "colab": {
          "base_uri": "https://localhost:8080/"
        },
        "id": "zT8eRfUkrl0W",
        "outputId": "79be4edf-fce5-45f8-f021-64864233d7c3"
      },
      "execution_count": 4,
      "outputs": [
        {
          "output_type": "stream",
          "name": "stdout",
          "text": [
            "False\n",
            "False\n",
            "True\n",
            "False\n",
            "False\n",
            "True\n"
          ]
        }
      ]
    },
    {
      "cell_type": "markdown",
      "source": [
        "**Set**"
      ],
      "metadata": {
        "id": "FlSxsLtBtMlb"
      }
    },
    {
      "cell_type": "code",
      "source": [
        "set_1={\"hello\",\"tom\",\"welcome\",32,23,45}\n",
        "set_2={\"welcome\",\"to\",\"mumbai\",73,928,438}\n",
        "a=len(set_1)\n",
        "b=len(set_2)\n",
        "print(a<b)\n",
        "print(a<b)\n",
        "print(a>=b)\n",
        "print(a<=b)\n",
        "print(a==b)\n",
        "print(a!=b)"
      ],
      "metadata": {
        "colab": {
          "base_uri": "https://localhost:8080/"
        },
        "id": "RCfkYoiytP1O",
        "outputId": "17e21fa7-13e3-4155-f084-661ce5d3e807"
      },
      "execution_count": 5,
      "outputs": [
        {
          "output_type": "stream",
          "name": "stdout",
          "text": [
            "False\n",
            "False\n",
            "True\n",
            "True\n",
            "True\n",
            "False\n"
          ]
        }
      ]
    },
    {
      "cell_type": "markdown",
      "source": [
        "**dictionary**"
      ],
      "metadata": {
        "id": "nbiKsLgVv27W"
      }
    },
    {
      "cell_type": "code",
      "source": [
        "mydic_1={\"Brand\":\"Vivo\",\"Value\":5000}\n",
        "mydic_2={\"Course\":\"Python\",\"Year\":2022}\n",
        "a=len(mydic_1)\n",
        "b=len(mydic_2)\n",
        "print(a<b)\n",
        "print(a<b)\n",
        "print(a>=b)\n",
        "print(a<=b)\n",
        "print(a==b)\n",
        "print(a!=b)"
      ],
      "metadata": {
        "colab": {
          "base_uri": "https://localhost:8080/"
        },
        "id": "A9BoeK4qt-Gq",
        "outputId": "3c0c2460-8005-4765-99f3-3f1f118e09eb"
      },
      "execution_count": 6,
      "outputs": [
        {
          "output_type": "stream",
          "name": "stdout",
          "text": [
            "False\n",
            "False\n",
            "True\n",
            "True\n",
            "True\n",
            "False\n"
          ]
        }
      ]
    },
    {
      "cell_type": "markdown",
      "source": [
        "**Assignment_02**"
      ],
      "metadata": {
        "id": "qgQSEji2yjc6"
      }
    },
    {
      "cell_type": "code",
      "source": [
        "#TOPIC create a function and Ask the users for two inputs and ask  what is the operators\n",
        "#create a function which gets two user inputs as operands and the operation to be performed on them as user input as well. and do the calculation\n",
        "\n",
        "num1=int(input(\"enter the value of num1:\"))\n",
        "num2=int(input(\"enter the value of num2:\"))\n",
        "\n",
        "operator=input(\"Enter the operator:\")\n",
        "if operator == \"+\":\n",
        "  print(num1 + num2)\n",
        "elif operator == \"-\":\n",
        "  print(num1 - num2)\n",
        "elif operator == \"*\":\n",
        "  print(num1 * num2)\n",
        "elif operator == \"/\":\n",
        "  print(num1/num2)\n",
        "else:\n",
        "  print(\"Invalid operator\")"
      ],
      "metadata": {
        "colab": {
          "base_uri": "https://localhost:8080/"
        },
        "id": "rzSS2tflyw5k",
        "outputId": "4c242e03-ae72-4015-b443-0199d0408c7d"
      },
      "execution_count": 10,
      "outputs": [
        {
          "output_type": "stream",
          "name": "stdout",
          "text": [
            "enter the value of num1:230\n",
            "enter the value of num2:150\n",
            "Enter the operator:+\n",
            "380\n"
          ]
        }
      ]
    },
    {
      "cell_type": "markdown",
      "source": [
        "**Assignment_03**"
      ],
      "metadata": {
        "id": "TYk-U4Zjz-lU"
      }
    },
    {
      "cell_type": "code",
      "source": [
        "myfile=open(\"file.txt\",\"r\")\n",
        "print(myfile.read())\n",
        "myfile.close()"
      ],
      "metadata": {
        "colab": {
          "base_uri": "https://localhost:8080/"
        },
        "id": "J8ed6kTFBQnO",
        "outputId": "6b5f398d-a70b-41e2-91e9-b15a74ec5ced"
      },
      "execution_count": 43,
      "outputs": [
        {
          "output_type": "stream",
          "name": "stdout",
          "text": [
            "hello friends,\n",
            "My name is tom,\n",
            "i am 24 years old.\n"
          ]
        }
      ]
    },
    {
      "cell_type": "code",
      "source": [
        "myfile = open(\"file.txt\",\"r+\")\n",
        "print(myfile.write(\"I live in Nagpur\"))\n",
        "myfile.close()"
      ],
      "metadata": {
        "colab": {
          "base_uri": "https://localhost:8080/"
        },
        "id": "fFgyF2JuBTZo",
        "outputId": "64384c6f-b89d-431f-fc03-27a8bcbacda3"
      },
      "execution_count": 53,
      "outputs": [
        {
          "output_type": "stream",
          "name": "stdout",
          "text": [
            "16\n"
          ]
        }
      ]
    },
    {
      "cell_type": "code",
      "source": [
        "myfile=open(\"file.txt\",\"r\")\n",
        "print(myfile.read())\n",
        "myfile.close()"
      ],
      "metadata": {
        "colab": {
          "base_uri": "https://localhost:8080/"
        },
        "id": "Ekj35g7nCcTW",
        "outputId": "8b0bb720-70d5-418a-cc11-c7cb46dbe844"
      },
      "execution_count": 54,
      "outputs": [
        {
          "output_type": "stream",
          "name": "stdout",
          "text": [
            "I live in Nagpur   name is tom,\n",
            "i am 24 years old.\n"
          ]
        }
      ]
    },
    {
      "cell_type": "code",
      "source": [
        "myfile= open(\"file.txt\",\"w+\")\n",
        "print(myfile.write(\"i live in Nagpur scince 7 years\"))\n",
        "myfile.close()"
      ],
      "metadata": {
        "colab": {
          "base_uri": "https://localhost:8080/"
        },
        "id": "GYt2dqcxCvNw",
        "outputId": "3e598322-da42-464b-eba7-8645f4be32d9"
      },
      "execution_count": 55,
      "outputs": [
        {
          "output_type": "stream",
          "name": "stdout",
          "text": [
            "31\n"
          ]
        }
      ]
    },
    {
      "cell_type": "code",
      "source": [
        "myfile = open(\"file.txt\",\"w+\")\n",
        "print(myfile.read())\n",
        "myfile.close()"
      ],
      "metadata": {
        "colab": {
          "base_uri": "https://localhost:8080/"
        },
        "id": "rLg36asMCoAg",
        "outputId": "3a79a1dd-2a45-4d37-aa9d-a0aed2f9e1a5"
      },
      "execution_count": 57,
      "outputs": [
        {
          "output_type": "stream",
          "name": "stdout",
          "text": [
            "\n"
          ]
        }
      ]
    },
    {
      "cell_type": "code",
      "source": [
        "myfile = open(\"file.txt\",\"a\")\n",
        "print(myfile.write(\" and we will continue as life long\"))\n",
        "myfile.close()"
      ],
      "metadata": {
        "colab": {
          "base_uri": "https://localhost:8080/"
        },
        "id": "Ba5kpAWUETDZ",
        "outputId": "ca7bd0ce-f6c0-4884-ba0e-9c98832c78f6"
      },
      "execution_count": 62,
      "outputs": [
        {
          "output_type": "stream",
          "name": "stdout",
          "text": [
            "34\n"
          ]
        }
      ]
    },
    {
      "cell_type": "code",
      "source": [
        "myfile = open(\"file.txt\",\"a+\")\n",
        "print(myfile.read())\n",
        "myfile.close()"
      ],
      "metadata": {
        "colab": {
          "base_uri": "https://localhost:8080/"
        },
        "id": "o6_BEOKBEcJq",
        "outputId": "5f06d573-2ab5-4af2-b9d9-3012e299d922"
      },
      "execution_count": 63,
      "outputs": [
        {
          "output_type": "stream",
          "name": "stdout",
          "text": [
            "\n"
          ]
        }
      ]
    },
    {
      "cell_type": "markdown",
      "source": [
        "**Assignment_04**"
      ],
      "metadata": {
        "id": "_CB2zc76Exnb"
      }
    },
    {
      "cell_type": "code",
      "source": [
        "prime_numbers = [32, 84, 93, 57, 34]\n",
        "prime_numbers.sort()\n",
        "print(prime_numbers)"
      ],
      "metadata": {
        "colab": {
          "base_uri": "https://localhost:8080/"
        },
        "id": "5YSRS3jzE5rH",
        "outputId": "4a1812e9-a8bd-48e5-b238-9b1bf64a2b8d"
      },
      "execution_count": 64,
      "outputs": [
        {
          "output_type": "stream",
          "name": "stdout",
          "text": [
            "[32, 34, 57, 84, 93]\n"
          ]
        }
      ]
    },
    {
      "cell_type": "code",
      "source": [
        "prime_numbers = [32, 84, 93, 57, 34]\n",
        "prime_numbers.sort(reverse=True)\n",
        "print(prime_numbers)"
      ],
      "metadata": {
        "colab": {
          "base_uri": "https://localhost:8080/"
        },
        "id": "uGEZNykpFJS-",
        "outputId": "ef399938-1f01-48ec-d011-fea1e7bc3cef"
      },
      "execution_count": 66,
      "outputs": [
        {
          "output_type": "stream",
          "name": "stdout",
          "text": [
            "[93, 84, 57, 34, 32]\n"
          ]
        }
      ]
    },
    {
      "cell_type": "markdown",
      "source": [
        "**Assignment_05**"
      ],
      "metadata": {
        "id": "PNG3ynZdGHyE"
      }
    },
    {
      "cell_type": "code",
      "source": [
        "#Paramarameters and Arguements\n",
        "def name(name):\n",
        "    print(\"my name is :\", name)\n",
        "name(\"Sayyed\")"
      ],
      "metadata": {
        "colab": {
          "base_uri": "https://localhost:8080/"
        },
        "id": "N_zbzUtUGNCW",
        "outputId": "dcd44003-375b-4466-c8f0-2417c91873cd"
      },
      "execution_count": 68,
      "outputs": [
        {
          "output_type": "stream",
          "name": "stdout",
          "text": [
            "my name is : Sayyed\n"
          ]
        }
      ]
    },
    {
      "cell_type": "code",
      "source": [
        "#Positional and keyword arguments\n",
        "def student(name,branch,marks):\n",
        "  print(\"Student name:\",name,\"Branch:\",branch,\"Obtained Marks:\", marks)\n",
        "student(\"kunal\",\"Maths\",87)"
      ],
      "metadata": {
        "colab": {
          "base_uri": "https://localhost:8080/"
        },
        "id": "eUfoC3dUGmid",
        "outputId": "05efccc8-6ffe-4cc7-ecee-5647d6017b4d"
      },
      "execution_count": 70,
      "outputs": [
        {
          "output_type": "stream",
          "name": "stdout",
          "text": [
            "Student name: kunal Branch: Maths Obtained Marks: 87\n"
          ]
        }
      ]
    },
    {
      "cell_type": "code",
      "source": [
        "def Student(marks,name=\"kunal\", Branch=\"nagpur\"):\n",
        "  print(\"Student name is\",name ,\"I belongs from\",Branch,\"I obtained\",marks,\"marks\")\n",
        "Student(87)"
      ],
      "metadata": {
        "colab": {
          "base_uri": "https://localhost:8080/"
        },
        "id": "megaNPf3HsJh",
        "outputId": "bf258e2a-6e2a-4210-abac-9ee18fd530bc"
      },
      "execution_count": 76,
      "outputs": [
        {
          "output_type": "stream",
          "name": "stdout",
          "text": [
            "Student name is kunal I belongs from nagpur I obtained 87 marks\n"
          ]
        }
      ]
    }
  ]
}